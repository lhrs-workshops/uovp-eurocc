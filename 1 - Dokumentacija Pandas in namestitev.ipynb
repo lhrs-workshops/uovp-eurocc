{
  "cells": [
    {
      "cell_type": "markdown",
      "metadata": {
        "id": "QWW7KY087-rZ"
      },
      "source": [
        "# Dokumentacija Pandas\n",
        "\n",
        "Pandas je knjižnica za programski jezik Python in nam omogoča delo s podatkovnimi zbirkami. Pandas podpira funkcije za ustvarjanje, spreminjanje, prečiščevanje in analizo podatkov. Danes je Pandas najbolj razširjena knjižnica za delo z različnimi podatkovnimi zbirkami, na področju podatkovne znanosti in visokozmogljivega računalništva pa je praktično že standard. Namen knjižnice je programerjem, podatkovnim znanstvenikom in ostalim uporabnikom omogočiti vpogled v podatkovne zbirke na človeku prijazen način in jim nuditi podporne funkcije za delo s podatki. Le tako lahko uporabniki pripravijo podatkovne zbirke v ustrezno obliko, ki bistveno olajša nadaljnje delo s podatki. V primeru velepodatkov je to še toliko bolj pomembno, saj predstavljajo osnovo za najrazličnejše modele umetne inteligence ali druge procese masovne obdelave.\n",
        "\n",
        "Več o knjižnici Pandas lahko preberete na straneh uradne dokumentacije: https://pandas.pydata.org/pandas-docs/stable/\n",
        "\n",
        "Ker je Pandas tudi odprtokodna knjižnica, si lahko programsko kodo podrobneje pogledate na repozitoriju GitHub: https://github.com/pandas-dev/pandas"
      ]
    },
    {
      "cell_type": "markdown",
      "metadata": {
        "id": "cGWl2Z_g7-rc"
      },
      "source": [
        "# Namestitev Pandas\n",
        "\n",
        "Če imamo na sistemu nameščen Python in PIP, lahko knjižnico Pandas enostavno namestimo v ukazni vrstici z ukazom:\n",
        "\n",
        "> pip install pandas\n",
        "\n",
        "Knjižnico lahko namestimo tudi v sklopu programskih orodij kot je [Anaconda](https://www.anaconda.com/download). Orodje Anaconda je uporabnikom zelo prijazno in bistveno olajša delo s različnimi knjižnicami za programski jezik Python.\n",
        "\n",
        "Še ena alternativa so Jupyter Notebook zvezki, ki so na voljo na platformi [Google Colab](https://colab.research.google.com/). V tem primeru namestitev ni potrebna, saj se vse odvija na oddaljenem strežniku Google. To je tudi najhitrejši način, da lahko začnete uporabljati knjižnico Pandas. Vse kar potrebujete je Googlov uporabniški račun."
      ]
    },
    {
      "cell_type": "markdown",
      "metadata": {
        "id": "Uy2QL5AY7-rd"
      },
      "source": [
        "# Uporaba Pandas\n",
        "\n",
        "Po uspešni namestitvi lahko začnemo z uporabo knjižnice Pandas. Tako kot vse ostale knjižnice v programskem jeziku Python, je potrebno knjižnico najprej vključiti v naš program. To storimo z ukazom ``import``:\n",
        "\n",
        "> **import** pandas\n",
        "\n",
        "S tem smo vključili knjižnico in jo že lahko začnemo uporabljati. Spodaj je podan primer vključevanja knjižnice v program in enostavna uporaba."
      ]
    },
    {
      "cell_type": "code",
      "execution_count": 4,
      "metadata": {
        "id": "qzbwFcGj7-rj",
        "outputId": "5517a18d-fcc7-498d-8510-0c0d49c089be",
        "colab": {
          "base_uri": "https://localhost:8080/"
        }
      },
      "outputs": [
        {
          "output_type": "stream",
          "name": "stdout",
          "text": [
            "        mesto  st_prebivalcev\n",
            "0     Maribor          113000\n",
            "1  Novo Mesto           38075\n",
            "2       Kranj           57171\n",
            "3   Ljubljana          296228\n",
            "4       Koper           48776\n",
            "5       Celje           53875\n"
          ]
        }
      ],
      "source": [
        "# Primer 1: vključevanje knjižnice Pandas in enostavna uporaba\n",
        "\n",
        "# vključevanje knjižnice z import\n",
        "import pandas\n",
        "\n",
        "# podatki o številu prebivalcev po občinah v Sloveniji (1. januar 2023)\n",
        "data = {\n",
        "    'mesto': ['Maribor', 'Novo Mesto', 'Kranj', 'Ljubljana', 'Koper', 'Celje'],\n",
        "    'st_prebivalcev': [113000, 38075, 57171, 296228, 48776, 53875]\n",
        "}\n",
        "\n",
        "# ustvarjanje strukture DataFrame\n",
        "df = pandas.DataFrame(data)\n",
        "\n",
        "# izpis podatkov\n",
        "print(df)"
      ]
    },
    {
      "cell_type": "markdown",
      "metadata": {
        "id": "Y-9hPJbY7-rk"
      },
      "source": [
        "V izpisu vidimo, da je knjižnica Pandas za nas uredila podatke v tabelo s stolpcema ``mesto`` in ``st_prebivalcev``. Podatki niso urejeni po abecednem redu imena mesta ali številu prebivalcev, temveč so v vrstnem redu, ki smo ga navedli pri ustvarjanju spremenljivke ``data``. Urejanje podatkov je ena izmed funkcionalnosti, ki nam jo omogoča knjižnica Pandas, vendar si bomo to funkcionalnost in še nekaj podobnih podrobneje pogledali v nadaljevanju.\n",
        "\n",
        "Ker knjižnico Pandas uporabljamo na več mestih, nam morda ni vedno praktično pisati imena ``pandas``, kot smo ga navedli pri vključevanju (z ``import``). To referenco lahko skrajšamo z uporabo nadomestnega imena *(ang. alias)*. Uporaba nadomestnih krajših imen za pogosto uporabljene knjižnice lahko danes opazimo kot primer dobre prakse. Ime ``pandas`` največkrat zamenjamo s ``pd``.\n",
        "\n",
        "Nadomestno ime (alias) določimo ob vključevanju knjižnice:\n",
        "> import pandas **as pd**\n",
        "\n",
        "Po izvedbi tega ukaza lahko dostopamo do vseh funkcionalnosti knjižnice Pandas tako, da uporabimo ime ``pd``. V spodnjem primeru smo uporabili nadomestno krajše ime."
      ]
    },
    {
      "cell_type": "code",
      "execution_count": 5,
      "metadata": {
        "id": "2wLPxzvt7-rl",
        "outputId": "2d6636cb-555c-4cdf-923e-0c3045521865",
        "colab": {
          "base_uri": "https://localhost:8080/"
        }
      },
      "outputs": [
        {
          "output_type": "stream",
          "name": "stdout",
          "text": [
            "        mesto  st_prebivalcev\n",
            "0     Maribor          113000\n",
            "1  Novo Mesto           38075\n",
            "2       Kranj           57171\n",
            "3   Ljubljana          296228\n",
            "4       Koper           48776\n",
            "5       Celje           53875\n"
          ]
        }
      ],
      "source": [
        "# Primer 2: vključevanje knjižnice Pandas z nadomestnim krajšim imenom\n",
        "\n",
        "# vključevanje knjižnice z import in nastavljanje krajšega imena\n",
        "import pandas as pd\n",
        "\n",
        "data = {\n",
        "    'mesto': ['Maribor', 'Novo Mesto', 'Kranj', 'Ljubljana', 'Koper', 'Celje'],\n",
        "    'st_prebivalcev': [113000, 38075, 57171, 296228, 48776, 53875]\n",
        "}\n",
        "\n",
        "# v tej vrstici zdaj uporabimo \"pd\" namesto \"pandas\"\n",
        "df = pd.DataFrame(data)\n",
        "\n",
        "# izpis podatkov\n",
        "print(df)"
      ]
    },
    {
      "cell_type": "markdown",
      "metadata": {
        "id": "o_xjjHzQ7-rl"
      },
      "source": [
        "Kot zadnji primer še poglejmo kako preverimo nameščeno različico knjižnice Pandas. Podobno lahko dostopamo do drugih lastnosti, ki so navedene v [uradni dokumentaciji](https://pandas.pydata.org/pandas-docs/stable/). Preverjanje različice Pandas je koristno kadar želimo preveriti ali je bila namestitev uspešna. Različico Pandas izpišemo s pridobivanjem lastnosti ``__version__``."
      ]
    },
    {
      "cell_type": "code",
      "execution_count": 6,
      "metadata": {
        "id": "TaO0zcsu7-rm",
        "outputId": "6a63aa81-b7b4-4903-b8fb-eefd1eaf2621",
        "colab": {
          "base_uri": "https://localhost:8080/"
        }
      },
      "outputs": [
        {
          "output_type": "stream",
          "name": "stdout",
          "text": [
            "Uporabljamo Pandas različico 2.0.3\n"
          ]
        }
      ],
      "source": [
        "# Primer 3: izpis različice Pandas\n",
        "print(f'Uporabljamo Pandas različico {pd.__version__}')"
      ]
    }
  ],
  "metadata": {
    "kernelspec": {
      "display_name": "Python 3",
      "language": "python",
      "name": "python3"
    },
    "language_info": {
      "codemirror_mode": {
        "name": "ipython",
        "version": 3
      },
      "file_extension": ".py",
      "mimetype": "text/x-python",
      "name": "python",
      "nbconvert_exporter": "python",
      "pygments_lexer": "ipython3",
      "version": "3.8.5"
    },
    "colab": {
      "provenance": []
    }
  },
  "nbformat": 4,
  "nbformat_minor": 0
}